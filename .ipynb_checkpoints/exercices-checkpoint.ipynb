{
 "cells": [
  {
   "cell_type": "code",
   "execution_count": 3,
   "metadata": {},
   "outputs": [
    {
     "ename": "SyntaxError",
     "evalue": "invalid syntax (<ipython-input-3-fbb9a92e3c6e>, line 20)",
     "output_type": "error",
     "traceback": [
      "\u001b[0;36m  File \u001b[0;32m\"<ipython-input-3-fbb9a92e3c6e>\"\u001b[0;36m, line \u001b[0;32m20\u001b[0m\n\u001b[0;31m    i = 1:\u001b[0m\n\u001b[0m         ^\u001b[0m\n\u001b[0;31mSyntaxError\u001b[0m\u001b[0;31m:\u001b[0m invalid syntax\n"
     ]
    }
   ],
   "source": [
    "# Exercice 1\n",
    "# Écrire un programme qui, à partir de la saisie d'un rayon et d'une hauteur, \n",
    "# calcule le volume d'un cône droit.\n",
    "def volumeCone(rayon, hauteur):\n",
    "    return 3,14 * rayon * hauteur / 3\n",
    "\n",
    "# Exercice 2 \n",
    "\n",
    "# Pour un entier **n** fixé, programmer le calcul de la somme S<sub>n</sub>=1<sup>3</sup>+2<sup>3</sup>+3<sup>3</sup>+···+n<sup>3</sup>\n",
    "# Définir un programme qui pour une valeur **n** calcul la somme Σ<sub>n</sub>=1+2+3+···+n.\n",
    "\n",
    "def sommeCube(n):\n",
    "    i = 1\n",
    "    somme = 0\n",
    "    for i in range(n):\n",
    "        somme += pow(n, 3)\n",
    "    return somme\n",
    "\n",
    "def somme(n):\n",
    "    i = 1\n",
    "    somme = 0\n",
    "    for i in range(n):\n",
    "        somme += n\n",
    "    return somme \n",
    "\n",
    "\n",
    "# Ex 3 : manipulation des variables :\n",
    "\n",
    "# Combien y-a-t-il d’occurrences du chiffre1 dans les nombres de1 à 999? Par exemple le chiffre1 apparaît unefois dans 51 mais deux fois dans 131\n",
    "def occurenceDe1():\n",
    "    i = 1\n",
    "    for i in range(1000):\n",
    "\n",
    "        nb = str(i)\n",
    "        occurence = 0\n",
    "        b = nb.find(\"1\", 0, len(nb))\n",
    "        while (b != -1 ):\n",
    "            occurence+=1\n",
    "            b = nb.find(\"1\", b + 1, len(nb))\n",
    "        \n",
    "        print(i , \" : \" , occurence)\n",
    "\n",
    "\n",
    "occurenceDe1()\n",
    "\n",
    "# Écrire une fonction qui calcule l’écriture décimale d’un entier, sans recourir au log\n",
    "def decimale(n):\n",
    "    return float(n)\n",
    "\n",
    "decimale(3)\n",
    "\n",
    "\n"
   ]
  },
  {
   "cell_type": "code",
   "execution_count": null,
   "metadata": {},
   "outputs": [],
   "source": []
  }
 ],
 "metadata": {
  "kernelspec": {
   "display_name": "Python 3",
   "language": "python",
   "name": "python3"
  },
  "language_info": {
   "codemirror_mode": {
    "name": "ipython",
    "version": 3
   },
   "file_extension": ".py",
   "mimetype": "text/x-python",
   "name": "python",
   "nbconvert_exporter": "python",
   "pygments_lexer": "ipython3",
   "version": "3.7.6"
  }
 },
 "nbformat": 4,
 "nbformat_minor": 4
}
